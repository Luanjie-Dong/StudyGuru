{
 "cells": [
  {
   "cell_type": "code",
   "execution_count": 7,
   "metadata": {},
   "outputs": [
    {
     "data": {
      "text/plain": [
       "[{'answer': ['70%/30%'],\n",
       "  'challenge_id': '80a31e9d-bf30-4d5d-8bdd-f27d0c69c73e',\n",
       "  'correct': None,\n",
       "  'explanation': '',\n",
       "  'hint': \"Look for the dataset split mentioned in the 'Model creation' context.\",\n",
       "  'input': '60%/40%',\n",
       "  'question_detail': {'options': ['50%/50%', '60%/40%', '70%/30%', '80%/20%'],\n",
       "   'question': 'In the context of creating a machine learning model, what is a common split proportion for the initial dataset into training and testing datasets?',\n",
       "   'type': 'MCQ'},\n",
       "  'question_no': 1,\n",
       "  'question_score': 0},\n",
       " {'answer': [[\"Encode as 'unknown'.\",\n",
       "    'Impute the value using the median.',\n",
       "    'Impute the value using the mode.']],\n",
       "  'challenge_id': '80a31e9d-bf30-4d5d-8bdd-f27d0c69c73e',\n",
       "  'correct': None,\n",
       "  'explanation': '',\n",
       "  'hint': 'Consider options that were directly mentioned in the data challenges context.',\n",
       "  'input': [['Impute the value using the median.',\n",
       "    'Impute the value using the mode.']],\n",
       "  'question_detail': {'options': ['Remove the entire row.',\n",
       "    \"Encode as 'unknown'.\",\n",
       "    'Impute the value using the median.',\n",
       "    'Impute the value using the mode.',\n",
       "    'Replace with zero.'],\n",
       "   'question': 'According to the provided text on data challenges, which of the following are common methods for handling missing values?',\n",
       "   'type': 'Multi-select'},\n",
       "  'question_no': 2,\n",
       "  'question_score': 0},\n",
       " {'answer': ['$2,728'],\n",
       "  'challenge_id': '80a31e9d-bf30-4d5d-8bdd-f27d0c69c73e',\n",
       "  'correct': None,\n",
       "  'explanation': '',\n",
       "  'hint': \"Refer to the 'Contributions / MonthMonthly Loan Installment' context to find the amount.\",\n",
       "  'input': '$1,000',\n",
       "  'question_detail': {'options': [],\n",
       "   'question': 'According to the implementation timeline, what is the monthly loan installment amount from Bank Cental Asia (IND) for 5 years?',\n",
       "   'type': 'Short open-ended'},\n",
       "  'question_no': 3,\n",
       "  'question_score': 0},\n",
       " {'answer': ['1. Get all books, 2. Return a list of books'],\n",
       "  'challenge_id': '80a31e9d-bf30-4d5d-8bdd-f27d0c69c73e',\n",
       "  'correct': None,\n",
       "  'explanation': '',\n",
       "  'hint': \"Focus on the 'UIBrowse books' section.\",\n",
       "  'input': '1. Get all books, 2. Return a list of books',\n",
       "  'question_detail': {'options': ['1. Add to cart, 2. View details',\n",
       "    '1. Get all books, 2. Return a list of books',\n",
       "    '1. Search by author, 2. Search by title',\n",
       "    '1. Rate a book, 2. Write a review'],\n",
       "   'question': \"According to the 'Amazing Bookstore' context, what are the two actions available in the UI Browse books section?\",\n",
       "   'type': 'MCQ'},\n",
       "  'question_no': 4,\n",
       "  'question_score': 0},\n",
       " {'answer': ['Tech-driven strategy'],\n",
       "  'challenge_id': '80a31e9d-bf30-4d5d-8bdd-f27d0c69c73e',\n",
       "  'correct': None,\n",
       "  'explanation': '',\n",
       "  'hint': \"The answer is related to a specific strategic category and contains the word 'tech'.\",\n",
       "  'input': 'Tech-driven strategy',\n",
       "  'question_detail': {'options': [],\n",
       "   'question': 'According to Essencia, what is a strategy described as enabling nimble demand forecasting and personalized marketing?',\n",
       "   'type': 'Short open-ended'},\n",
       "  'question_no': 5,\n",
       "  'question_score': 0}]"
      ]
     },
     "execution_count": 7,
     "metadata": {},
     "output_type": "execute_result"
    }
   ],
   "source": [
    "import json\n",
    "with open(\"test_data/questions.json\", 'r', encoding='utf-8') as file:\n",
    "            test = json.load(file)\n",
    "\n",
    "questions = test\n",
    "questions"
   ]
  },
  {
   "cell_type": "code",
   "execution_count": null,
   "metadata": {},
   "outputs": [
    {
     "name": "stdout",
     "output_type": "stream",
     "text": [
      "Formatting questions for review\n",
      "Prompt User has selected answer: 60%/40%\n",
      "for question 1 [MCQ]: In the context of creating a machine learning model, what is a common split proportion for the initial dataset into training and testing datasets? with correct answer(s): ['70%/30%'] and options: ['50%/50%', '60%/40%', '70%/30%', '80%/20%'] \n",
      "\n",
      "Prompt User has selected answer: [['Impute the value using the median.', 'Impute the value using the mode.']]\n",
      "for question 2 [Multi-select]: According to the provided text on data challenges, which of the following are common methods for handling missing values? with correct answer(s): [[\"Encode as 'unknown'.\", 'Impute the value using the median.', 'Impute the value using the mode.']] and options: ['Remove the entire row.', \"Encode as 'unknown'.\", 'Impute the value using the median.', 'Impute the value using the mode.', 'Replace with zero.'] \n",
      "\n",
      "Prompt User has selected answer: $1,000\n",
      "for question 3 [Short open-ended]: According to the implementation timeline, what is the monthly loan installment amount from Bank Cental Asia (IND) for 5 years? with correct answer(s): ['$2,728'] and options: []\n",
      "Give a score for the review too. \n",
      "\n",
      "Prompt User has selected answer: 1. Get all books, 2. Return a list of books\n",
      "for question 4 [MCQ]: According to the 'Amazing Bookstore' context, what are the two actions available in the UI Browse books section? with correct answer(s): ['1. Get all books, 2. Return a list of books'] and options: ['1. Add to cart, 2. View details', '1. Get all books, 2. Return a list of books', '1. Search by author, 2. Search by title', '1. Rate a book, 2. Write a review'] \n",
      "\n",
      "Prompt User has selected answer: Tech-driven strategy\n",
      "for question 5 [Short open-ended]: According to Essencia, what is a strategy described as enabling nimble demand forecasting and personalized marketing? with correct answer(s): ['Tech-driven strategy'] and options: []\n",
      "Give a score for the review too. \n",
      "\n"
     ]
    }
   ],
   "source": [
    "prompt_formatted = []\n",
    "print(\"Formatting questions for review\",flush=True)\n",
    "for question in questions:\n",
    "    prompt = (\n",
    "    f\"User has selected answer: {question['input']}\\n\"\n",
    "    f\"for question {question['question_no']} [{question['question_detail']['type']}]: \"\n",
    "    f\"{question['question_detail']['question']} with correct answer(s): {question['answer']} \"\n",
    "    f\"and options: {question['question_detail']['options']}\"\n",
    "    )\n",
    "\n",
    "    if \"open-ended\" in question['question_detail']['type'].lower():\n",
    "        prompt += \"\\nGive a score out of 100 percent for the review too.\"\n",
    "\n",
    "    print(\"Prompt\",prompt,\"\\n\")\n",
    "    prompt_formatted.append(prompt)\n"
   ]
  }
 ],
 "metadata": {
  "kernelspec": {
   "display_name": "base",
   "language": "python",
   "name": "python3"
  },
  "language_info": {
   "codemirror_mode": {
    "name": "ipython",
    "version": 3
   },
   "file_extension": ".py",
   "mimetype": "text/x-python",
   "name": "python",
   "nbconvert_exporter": "python",
   "pygments_lexer": "ipython3",
   "version": "3.11.3"
  }
 },
 "nbformat": 4,
 "nbformat_minor": 2
}
